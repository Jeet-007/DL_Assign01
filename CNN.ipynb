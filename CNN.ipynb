{
 "cells": [
  {
   "cell_type": "code",
   "execution_count": 1,
   "metadata": {},
   "outputs": [],
   "source": [
    "import torch\n",
    "import torchvision\n",
    "import torchvision.transforms as transforms"
   ]
  },
  {
   "cell_type": "code",
   "execution_count": 2,
   "metadata": {},
   "outputs": [],
   "source": [
    "transform = transforms.Compose([\n",
    "    transforms.Resize(256),\n",
    "    transforms.CenterCrop(256),\n",
    "    transforms.ToTensor()])\n",
    "\n",
    "full_dataset = torchvision.datasets.ImageFolder(root='/home/jeet/Downloads/work/SEM-VI/DL/Assignment/A1-Q2_Dataset-20190402T184351Z-001/A1-Q2_Dataset/HumanActionClassification/', transform=transform)"
   ]
  },
  {
   "cell_type": "code",
   "execution_count": 3,
   "metadata": {},
   "outputs": [
    {
     "data": {
      "text/plain": [
       "911"
      ]
     },
     "execution_count": 3,
     "metadata": {},
     "output_type": "execute_result"
    }
   ],
   "source": [
    "len(full_dataset)"
   ]
  },
  {
   "cell_type": "code",
   "execution_count": 4,
   "metadata": {},
   "outputs": [
    {
     "name": "stdout",
     "output_type": "stream",
     "text": [
      "637 274\n"
     ]
    }
   ],
   "source": [
    "trainset, testset = torch.utils.data.random_split(full_dataset, ((int(len(full_dataset)*0.7)), len(full_dataset) - int(len(full_dataset)*0.7))) \n",
    "\n",
    "print(len(trainset), len(testset))\n",
    "\n",
    "trainloader = torch.utils.data.DataLoader(trainset, batch_size=32, shuffle=True, num_workers=2)\n",
    "testloader = torch.utils.data.DataLoader(testset, batch_size=1, shuffle=True, num_workers=2)\n",
    "# print(len(trainloader), len(testloader.dataset.dataset.imgs))"
   ]
  },
  {
   "cell_type": "code",
   "execution_count": 5,
   "metadata": {},
   "outputs": [],
   "source": [
    "classes = ('1', '2', '3', '4', '5', '6', '7')"
   ]
  },
  {
   "cell_type": "code",
   "execution_count": 6,
   "metadata": {},
   "outputs": [
    {
     "name": "stdout",
     "output_type": "stream",
     "text": [
      "tensor([[[[0.2431, 0.2588, 0.2667,  ..., 0.1843, 0.2000, 0.2039],\n",
      "          [0.2510, 0.2588, 0.2588,  ..., 0.1922, 0.2000, 0.2039],\n",
      "          [0.2471, 0.2510, 0.2471,  ..., 0.2039, 0.2157, 0.2157],\n",
      "          ...,\n",
      "          [0.5333, 0.4980, 0.5451,  ..., 0.4118, 0.4275, 0.4118],\n",
      "          [0.5451, 0.5529, 0.5569,  ..., 0.4118, 0.4039, 0.3765],\n",
      "          [0.5608, 0.5882, 0.5882,  ..., 0.4235, 0.4039, 0.3882]],\n",
      "\n",
      "         [[0.2863, 0.3020, 0.3098,  ..., 0.2078, 0.2196, 0.2235],\n",
      "          [0.2941, 0.3020, 0.3020,  ..., 0.2196, 0.2235, 0.2275],\n",
      "          [0.2902, 0.2941, 0.2902,  ..., 0.2235, 0.2392, 0.2431],\n",
      "          ...,\n",
      "          [0.4275, 0.4000, 0.4588,  ..., 0.3451, 0.3569, 0.3373],\n",
      "          [0.4314, 0.4471, 0.4588,  ..., 0.3490, 0.3412, 0.3137],\n",
      "          [0.4549, 0.4824, 0.4784,  ..., 0.3569, 0.3373, 0.3294]],\n",
      "\n",
      "         [[0.1216, 0.1412, 0.1451,  ..., 0.0824, 0.0902, 0.0863],\n",
      "          [0.1294, 0.1373, 0.1373,  ..., 0.0863, 0.0863, 0.0863],\n",
      "          [0.1255, 0.1255, 0.1255,  ..., 0.0902, 0.0902, 0.0902],\n",
      "          ...,\n",
      "          [0.2510, 0.2196, 0.2745,  ..., 0.2431, 0.2588, 0.2314],\n",
      "          [0.2549, 0.2667, 0.2784,  ..., 0.2392, 0.2431, 0.2157],\n",
      "          [0.2824, 0.3020, 0.2980,  ..., 0.2627, 0.2510, 0.2353]]],\n",
      "\n",
      "\n",
      "        [[[1.0000, 1.0000, 1.0000,  ..., 1.0000, 1.0000, 1.0000],\n",
      "          [1.0000, 1.0000, 1.0000,  ..., 1.0000, 1.0000, 1.0000],\n",
      "          [1.0000, 1.0000, 1.0000,  ..., 1.0000, 1.0000, 1.0000],\n",
      "          ...,\n",
      "          [0.6824, 0.6431, 0.5490,  ..., 0.9961, 0.9922, 1.0000],\n",
      "          [0.7529, 0.8471, 0.8196,  ..., 1.0000, 0.9961, 1.0000],\n",
      "          [0.8314, 0.9137, 0.9137,  ..., 1.0000, 1.0000, 1.0000]],\n",
      "\n",
      "         [[1.0000, 1.0000, 1.0000,  ..., 1.0000, 1.0000, 1.0000],\n",
      "          [1.0000, 1.0000, 1.0000,  ..., 1.0000, 1.0000, 1.0000],\n",
      "          [1.0000, 1.0000, 1.0000,  ..., 1.0000, 1.0000, 1.0000],\n",
      "          ...,\n",
      "          [0.6824, 0.6431, 0.5490,  ..., 0.9961, 0.9922, 1.0000],\n",
      "          [0.7529, 0.8471, 0.8196,  ..., 1.0000, 0.9961, 1.0000],\n",
      "          [0.8314, 0.9137, 0.9137,  ..., 1.0000, 1.0000, 1.0000]],\n",
      "\n",
      "         [[1.0000, 1.0000, 1.0000,  ..., 1.0000, 1.0000, 1.0000],\n",
      "          [1.0000, 1.0000, 1.0000,  ..., 1.0000, 1.0000, 1.0000],\n",
      "          [1.0000, 1.0000, 1.0000,  ..., 1.0000, 1.0000, 1.0000],\n",
      "          ...,\n",
      "          [0.6824, 0.6431, 0.5490,  ..., 0.9961, 0.9922, 1.0000],\n",
      "          [0.7529, 0.8471, 0.8196,  ..., 1.0000, 0.9961, 1.0000],\n",
      "          [0.8314, 0.9137, 0.9137,  ..., 1.0000, 1.0000, 1.0000]]],\n",
      "\n",
      "\n",
      "        [[[0.6039, 0.5608, 0.5686,  ..., 0.4667, 0.4745, 0.4863],\n",
      "          [0.5922, 0.6000, 0.5882,  ..., 0.4980, 0.4863, 0.5294],\n",
      "          [0.5922, 0.6118, 0.5412,  ..., 0.4902, 0.4745, 0.5255],\n",
      "          ...,\n",
      "          [0.5412, 0.5333, 0.5529,  ..., 0.5608, 0.5412, 0.5412],\n",
      "          [0.5490, 0.5529, 0.5412,  ..., 0.5529, 0.5216, 0.5333],\n",
      "          [0.5412, 0.5176, 0.5294,  ..., 0.5686, 0.5686, 0.5373]],\n",
      "\n",
      "         [[0.6039, 0.5608, 0.5686,  ..., 0.4667, 0.4745, 0.4863],\n",
      "          [0.5922, 0.6000, 0.5882,  ..., 0.4980, 0.4863, 0.5294],\n",
      "          [0.5922, 0.6118, 0.5412,  ..., 0.4902, 0.4745, 0.5255],\n",
      "          ...,\n",
      "          [0.5412, 0.5333, 0.5529,  ..., 0.5608, 0.5412, 0.5412],\n",
      "          [0.5490, 0.5529, 0.5412,  ..., 0.5529, 0.5216, 0.5333],\n",
      "          [0.5412, 0.5176, 0.5294,  ..., 0.5686, 0.5686, 0.5373]],\n",
      "\n",
      "         [[0.6039, 0.5608, 0.5686,  ..., 0.4667, 0.4745, 0.4863],\n",
      "          [0.5922, 0.6000, 0.5882,  ..., 0.4980, 0.4863, 0.5294],\n",
      "          [0.5922, 0.6118, 0.5412,  ..., 0.4902, 0.4745, 0.5255],\n",
      "          ...,\n",
      "          [0.5412, 0.5333, 0.5529,  ..., 0.5608, 0.5412, 0.5412],\n",
      "          [0.5490, 0.5529, 0.5412,  ..., 0.5529, 0.5216, 0.5333],\n",
      "          [0.5412, 0.5176, 0.5294,  ..., 0.5686, 0.5686, 0.5373]]],\n",
      "\n",
      "\n",
      "        ...,\n",
      "\n",
      "\n",
      "        [[[0.4745, 0.4902, 0.5176,  ..., 0.5059, 0.4980, 0.4941],\n",
      "          [0.5176, 0.5490, 0.5765,  ..., 0.4588, 0.4549, 0.4745],\n",
      "          [0.5373, 0.5647, 0.5686,  ..., 0.4510, 0.4471, 0.4549],\n",
      "          ...,\n",
      "          [0.1686, 0.1647, 0.1569,  ..., 0.1765, 0.1804, 0.1765],\n",
      "          [0.1412, 0.1490, 0.1529,  ..., 0.1804, 0.1725, 0.1686],\n",
      "          [0.1529, 0.1686, 0.1765,  ..., 0.1804, 0.1725, 0.1686]],\n",
      "\n",
      "         [[0.4392, 0.4510, 0.4784,  ..., 0.4588, 0.4510, 0.4510],\n",
      "          [0.4549, 0.4902, 0.5137,  ..., 0.4039, 0.4000, 0.4196],\n",
      "          [0.4706, 0.4941, 0.4980,  ..., 0.4000, 0.3922, 0.4000],\n",
      "          ...,\n",
      "          [0.1608, 0.1569, 0.1490,  ..., 0.1647, 0.1686, 0.1725],\n",
      "          [0.1333, 0.1412, 0.1451,  ..., 0.1686, 0.1608, 0.1647],\n",
      "          [0.1451, 0.1608, 0.1686,  ..., 0.1686, 0.1608, 0.1608]],\n",
      "\n",
      "         [[0.3098, 0.3176, 0.3412,  ..., 0.3686, 0.3686, 0.3647],\n",
      "          [0.3412, 0.3725, 0.3922,  ..., 0.3059, 0.3098, 0.3216],\n",
      "          [0.3608, 0.3843, 0.3882,  ..., 0.2941, 0.2902, 0.2980],\n",
      "          ...,\n",
      "          [0.1098, 0.1059, 0.0980,  ..., 0.1373, 0.1412, 0.1412],\n",
      "          [0.0863, 0.0902, 0.0941,  ..., 0.1412, 0.1412, 0.1373],\n",
      "          [0.0980, 0.1137, 0.1176,  ..., 0.1412, 0.1294, 0.1216]]],\n",
      "\n",
      "\n",
      "        [[[0.5922, 0.5961, 0.6314,  ..., 0.6706, 0.6471, 0.6196],\n",
      "          [0.5804, 0.5686, 0.5961,  ..., 0.6353, 0.6235, 0.5843],\n",
      "          [0.6196, 0.6235, 0.6863,  ..., 0.5843, 0.5961, 0.5608],\n",
      "          ...,\n",
      "          [0.8588, 0.7961, 0.8784,  ..., 0.8549, 0.7882, 0.7725],\n",
      "          [0.9137, 0.8235, 0.7922,  ..., 0.7725, 0.7412, 0.7333],\n",
      "          [0.9216, 0.8902, 0.7843,  ..., 0.7686, 0.8196, 0.7373]],\n",
      "\n",
      "         [[0.5922, 0.5961, 0.6314,  ..., 0.6706, 0.6471, 0.6196],\n",
      "          [0.5804, 0.5686, 0.5961,  ..., 0.6353, 0.6235, 0.5843],\n",
      "          [0.6196, 0.6235, 0.6863,  ..., 0.5843, 0.5961, 0.5608],\n",
      "          ...,\n",
      "          [0.8588, 0.7961, 0.8784,  ..., 0.8549, 0.7882, 0.7725],\n",
      "          [0.9137, 0.8235, 0.7922,  ..., 0.7725, 0.7412, 0.7333],\n",
      "          [0.9216, 0.8902, 0.7843,  ..., 0.7686, 0.8196, 0.7373]],\n",
      "\n",
      "         [[0.5922, 0.5961, 0.6314,  ..., 0.6706, 0.6471, 0.6196],\n",
      "          [0.5804, 0.5686, 0.5961,  ..., 0.6353, 0.6235, 0.5843],\n",
      "          [0.6196, 0.6235, 0.6863,  ..., 0.5843, 0.5961, 0.5608],\n",
      "          ...,\n",
      "          [0.8588, 0.7961, 0.8784,  ..., 0.8549, 0.7882, 0.7725],\n",
      "          [0.9137, 0.8235, 0.7922,  ..., 0.7725, 0.7412, 0.7333],\n",
      "          [0.9216, 0.8902, 0.7843,  ..., 0.7686, 0.8196, 0.7373]]],\n",
      "\n",
      "\n",
      "        [[[0.5490, 0.1608, 0.0706,  ..., 0.0471, 0.0314, 0.0118],\n",
      "          [0.8118, 0.4902, 0.1098,  ..., 0.0784, 0.0667, 0.0784],\n",
      "          [0.4078, 0.2471, 0.0549,  ..., 0.0902, 0.0863, 0.1255],\n",
      "          ...,\n",
      "          [0.4824, 0.4431, 0.4431,  ..., 0.3647, 0.3412, 0.4196],\n",
      "          [0.4941, 0.4471, 0.4314,  ..., 0.4275, 0.3569, 0.4471],\n",
      "          [0.5647, 0.5020, 0.5490,  ..., 0.4471, 0.4118, 0.4980]],\n",
      "\n",
      "         [[0.5725, 0.1843, 0.0784,  ..., 0.0745, 0.0627, 0.0314],\n",
      "          [0.8549, 0.5137, 0.1176,  ..., 0.1098, 0.0941, 0.0902],\n",
      "          [0.4667, 0.2549, 0.0549,  ..., 0.1255, 0.1098, 0.1255],\n",
      "          ...,\n",
      "          [0.5451, 0.4824, 0.5020,  ..., 0.4471, 0.4314, 0.5098],\n",
      "          [0.5412, 0.4745, 0.4863,  ..., 0.4902, 0.4353, 0.5333],\n",
      "          [0.6039, 0.5294, 0.5961,  ..., 0.4902, 0.4667, 0.5608]],\n",
      "\n",
      "         [[0.3686, 0.0902, 0.0196,  ..., 0.0392, 0.0235, 0.0078],\n",
      "          [0.5373, 0.3608, 0.0549,  ..., 0.0588, 0.0392, 0.0431],\n",
      "          [0.2510, 0.1569, 0.0314,  ..., 0.0627, 0.0392, 0.0588],\n",
      "          ...,\n",
      "          [0.1255, 0.1294, 0.1451,  ..., 0.1686, 0.1490, 0.2314],\n",
      "          [0.1490, 0.1255, 0.1294,  ..., 0.2078, 0.1412, 0.2314],\n",
      "          [0.2157, 0.1569, 0.2196,  ..., 0.1804, 0.1176, 0.1804]]]])\n",
      "tensor([1, 5, 6, 6, 0, 2, 2, 2, 6, 5, 2, 1, 3, 1, 4, 1, 2, 1, 2, 3, 1, 3, 4, 1,\n",
      "        2, 4, 6, 2, 6, 2, 6, 2])\n"
     ]
    },
    {
     "data": {
      "text/plain": [
       "<Figure size 640x480 with 1 Axes>"
      ]
     },
     "metadata": {},
     "output_type": "display_data"
    },
    {
     "name": "stdout",
     "output_type": "stream",
     "text": [
      "    2     6     7     7     1     3     3     3     7     6     3     2     4     2     5     2     3     2     3     4     2     4     5     2     3     5     7     3     7     3     7     3\n"
     ]
    }
   ],
   "source": [
    "import matplotlib.pyplot as plt\n",
    "import numpy as np\n",
    "\n",
    "def imshow(img):\n",
    "    npimg = img.numpy()\n",
    "    plt.imshow(np.transpose(npimg, (1, 2, 0)))\n",
    "    plt.show()\n",
    "\n",
    "\n",
    "dataiter = iter(trainloader)\n",
    "# print(dataiter.batch_sampler.sampler.data_source.imgs)\n",
    "images, labels = dataiter.next()\n",
    "print(images)\n",
    "print(labels)\n",
    "# show images\n",
    "imshow(torchvision.utils.make_grid(images))\n",
    "# print labels\n",
    "print(' '.join('%5s' % classes[labels[j]] for j in range(32)))"
   ]
  },
  {
   "cell_type": "code",
   "execution_count": 7,
   "metadata": {},
   "outputs": [],
   "source": [
    "import torch.nn as nn\n",
    "import torch.nn.functional as F"
   ]
  },
  {
   "cell_type": "code",
   "execution_count": 8,
   "metadata": {},
   "outputs": [],
   "source": [
    "class Network(nn.Module):\n",
    "    def __init__(self):\n",
    "        super(Network, self).__init__()\n",
    "        self.conv1 = nn.Conv2d(3, 4, 5, stride=2)\n",
    "        self.pool1 = nn.MaxPool2d(2, 2)\n",
    "        self.conv2 = nn.Conv2d(4, 8, 5, stride=2)\n",
    "        self.pool2 = nn.MaxPool2d(2, 2)\n",
    "        self.conv3 = nn.Conv2d(8, 8, 5, stride=2)\n",
    "        self.fc1 = nn.Linear(6728, 7)\n",
    "        \n",
    "    def forward(self, inp):\n",
    "        inp = F.relu(self.conv1(inp))\n",
    "        inp = F.relu(self.conv2(inp))\n",
    "        inp = F.relu(self.conv3(inp))\n",
    "        inp = inp.view(inp.shape[0], -1)\n",
    "        inp = self.fc1(inp)\n",
    "        return inp\n",
    "    \n",
    "network = Network()"
   ]
  },
  {
   "cell_type": "code",
   "execution_count": 9,
   "metadata": {},
   "outputs": [
    {
     "name": "stdout",
     "output_type": "stream",
     "text": [
      "Network(\n",
      "  (conv1): Conv2d(3, 4, kernel_size=(5, 5), stride=(2, 2))\n",
      "  (pool1): MaxPool2d(kernel_size=2, stride=2, padding=0, dilation=1, ceil_mode=False)\n",
      "  (conv2): Conv2d(4, 8, kernel_size=(5, 5), stride=(2, 2))\n",
      "  (pool2): MaxPool2d(kernel_size=2, stride=2, padding=0, dilation=1, ceil_mode=False)\n",
      "  (conv3): Conv2d(8, 8, kernel_size=(5, 5), stride=(2, 2))\n",
      "  (fc1): Linear(in_features=6728, out_features=7, bias=True)\n",
      ")\n"
     ]
    }
   ],
   "source": [
    "print(network)"
   ]
  },
  {
   "cell_type": "code",
   "execution_count": 10,
   "metadata": {},
   "outputs": [],
   "source": [
    "import torch.optim as optim\n",
    "\n",
    "criterion = nn.CrossEntropyLoss()\n",
    "optimizer = optim.Adam(network.parameters(), lr=0.0001)"
   ]
  },
  {
   "cell_type": "code",
   "execution_count": 11,
   "metadata": {},
   "outputs": [
    {
     "name": "stdout",
     "output_type": "stream",
     "text": [
      "[1,     1] loss: 1.944\n",
      "[1,    11] loss: 19.486\n",
      "[2,     1] loss: 1.908\n",
      "[2,    11] loss: 19.256\n",
      "[3,     1] loss: 1.914\n",
      "[3,    11] loss: 19.199\n",
      "[4,     1] loss: 1.879\n",
      "[4,    11] loss: 18.911\n",
      "[5,     1] loss: 1.882\n",
      "[5,    11] loss: 18.543\n",
      "[6,     1] loss: 1.864\n",
      "[6,    11] loss: 18.328\n",
      "[7,     1] loss: 1.863\n",
      "[7,    11] loss: 17.762\n",
      "[8,     1] loss: 1.735\n",
      "[8,    11] loss: 17.546\n",
      "[9,     1] loss: 1.721\n",
      "[9,    11] loss: 16.573\n",
      "[10,     1] loss: 1.610\n",
      "[10,    11] loss: 16.360\n",
      "[11,     1] loss: 1.512\n",
      "[11,    11] loss: 16.411\n",
      "[12,     1] loss: 1.700\n",
      "[12,    11] loss: 15.730\n",
      "[13,     1] loss: 1.417\n",
      "[13,    11] loss: 15.609\n",
      "[14,     1] loss: 1.669\n",
      "[14,    11] loss: 14.662\n",
      "[15,     1] loss: 1.368\n",
      "[15,    11] loss: 14.839\n",
      "[16,     1] loss: 1.343\n",
      "[16,    11] loss: 14.786\n",
      "[17,     1] loss: 1.276\n",
      "[17,    11] loss: 13.862\n",
      "[18,     1] loss: 1.269\n",
      "[18,    11] loss: 13.291\n",
      "[19,     1] loss: 1.365\n",
      "[19,    11] loss: 13.161\n",
      "[20,     1] loss: 1.299\n",
      "[20,    11] loss: 12.494\n",
      "Finished Training\n"
     ]
    }
   ],
   "source": [
    "for epoch in range(20):  # loop over the dataset multiple times\n",
    "\n",
    "    running_loss = 0.0\n",
    "    for i, data in enumerate(trainloader, 0):\n",
    "        \n",
    "        inputs, labels = data\n",
    "\n",
    "        # zero the parameter gradients\n",
    "        optimizer.zero_grad()\n",
    "\n",
    "        # forward + backward + optimize\n",
    "        outputs = network(inputs)\n",
    "        loss = criterion(outputs, labels)\n",
    "        loss.backward()\n",
    "        optimizer.step()\n",
    "\n",
    "        running_loss += loss.item()\n",
    "        if i % 10 == 0: \n",
    "            print('[%d, %5d] loss: %.3f' %(epoch + 1, i + 1, running_loss))\n",
    "            running_loss = 0.0\n",
    "\n",
    "print('Finished Training')\n"
   ]
  },
  {
   "cell_type": "code",
   "execution_count": 13,
   "metadata": {},
   "outputs": [
    {
     "name": "stdout",
     "output_type": "stream",
     "text": [
      "Accuracy of the network on the 274 test images: 20 %\n"
     ]
    }
   ],
   "source": [
    "correct = 0\n",
    "total = 0\n",
    "with torch.no_grad():\n",
    "    for data in testloader:\n",
    "        images, labels = data\n",
    "        outputs = network(images)\n",
    "        _, predicted = torch.max(outputs.data, 1)\n",
    "        total += labels.size(0)\n",
    "        correct += (predicted == labels).sum().item()\n",
    "#         print(predicted, labels)\n",
    "\n",
    "print('Accuracy of the network on the %d test images: %d %%' % (len(testloader),\n",
    "    100 * correct / total))"
   ]
  },
  {
   "cell_type": "markdown",
   "metadata": {},
   "source": [
    " "
   ]
  },
  {
   "cell_type": "code",
   "execution_count": null,
   "metadata": {},
   "outputs": [],
   "source": []
  }
 ],
 "metadata": {
  "kernelspec": {
   "display_name": "Python 3",
   "language": "python",
   "name": "python3"
  },
  "language_info": {
   "codemirror_mode": {
    "name": "ipython",
    "version": 3
   },
   "file_extension": ".py",
   "mimetype": "text/x-python",
   "name": "python",
   "nbconvert_exporter": "python",
   "pygments_lexer": "ipython3",
   "version": "3.7.0"
  }
 },
 "nbformat": 4,
 "nbformat_minor": 2
}
